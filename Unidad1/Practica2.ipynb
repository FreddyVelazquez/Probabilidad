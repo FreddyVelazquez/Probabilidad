{
  "nbformat": 4,
  "nbformat_minor": 0,
  "metadata": {
    "colab": {
      "provenance": [],
      "authorship_tag": "ABX9TyM/cXL7cYC/Pv5aqaAkP4dF",
      "include_colab_link": true
    },
    "kernelspec": {
      "name": "python3",
      "display_name": "Python 3"
    },
    "language_info": {
      "name": "python"
    }
  },
  "cells": [
    {
      "cell_type": "markdown",
      "metadata": {
        "id": "view-in-github",
        "colab_type": "text"
      },
      "source": [
        "<a href=\"https://colab.research.google.com/github/FreddyVelazquez/Probabilidad/blob/main/Unidad1/Practica2.ipynb\" target=\"_parent\"><img src=\"https://colab.research.google.com/assets/colab-badge.svg\" alt=\"Open In Colab\"/></a>"
      ]
    },
    {
      "cell_type": "markdown",
      "source": [
        "# **PROBABILIDAD Y ESTADISTICA**\n",
        "\n",
        "##GRUPO 2Y\n",
        "\n",
        "##UNIDAD 1\n",
        "\n",
        "Docente: Jose Gabriel Rodriguez Rivas\n",
        "\n",
        "Alumno: Freddy Mariano Velazquez Cerros\n",
        "\n",
        "### **Practica 2.Maximo,minimo, rango y dispersion de Datos**\n",
        "\n"
      ],
      "metadata": {
        "id": "yK8qDr_Y_eM9"
      }
    },
    {
      "cell_type": "markdown",
      "source": [
        "Importar librerías y generar datos aleatorios para simular la producción en metros de\n",
        "tela de 2 fabricas"
      ],
      "metadata": {
        "id": "-k-bh4i-AgQz"
      }
    },
    {
      "cell_type": "code",
      "execution_count": 2,
      "metadata": {
        "id": "3ajZtmMMNNtS"
      },
      "outputs": [],
      "source": [
        "import random\n",
        "import matplotlib.pyplot as plt\n",
        "from statistics import *"
      ]
    },
    {
      "cell_type": "code",
      "source": [
        "fabrica1 = []\n",
        "for i in range (100):\n",
        "  numero_aleatorio = round( random.uniform(50,100), 2)\n",
        "  fabrica1.append(numero_aleatorio)\n",
        "print(fabrica1)"
      ],
      "metadata": {
        "colab": {
          "base_uri": "https://localhost:8080/"
        },
        "id": "-YfsT9SSNX3x",
        "outputId": "ad8aa767-2a38-4bc8-c7c2-349139be8e7b"
      },
      "execution_count": 3,
      "outputs": [
        {
          "output_type": "stream",
          "name": "stdout",
          "text": [
            "[69.29, 95.31, 58.09, 76.66, 57.46, 57.66, 66.31, 53.32, 90.68, 91.98, 93.9, 55.01, 74.24, 53.9, 78.97, 97.04, 80.35, 68.38, 72.46, 97.4, 82.5, 50.53, 51.35, 99.27, 87.99, 55.66, 72.83, 80.42, 62.77, 62.81, 52.25, 58.89, 59.43, 71.67, 79.6, 71.19, 53.34, 86.59, 79.55, 81.1, 58.42, 94.05, 55.7, 94.77, 81.64, 91.94, 94.68, 61.97, 83.58, 98.87, 65.3, 80.58, 90.47, 72.46, 81.87, 85.13, 79.62, 82.66, 70.43, 93.06, 82.23, 98.06, 93.32, 58.42, 85.39, 86.9, 53.73, 59.5, 74.22, 67.56, 71.92, 99.81, 61.46, 88.64, 54.11, 80.13, 93.01, 83.73, 95.19, 98.87, 74.8, 77.37, 91.24, 94.35, 96.23, 86.7, 91.65, 93.31, 55.07, 60.45, 78.98, 60.59, 63.36, 95.1, 84.81, 78.18, 52.23, 68.23, 56.55, 81.82]\n"
          ]
        }
      ]
    },
    {
      "cell_type": "code",
      "source": [
        "fabrica2 = []\n",
        "for i in range (100):\n",
        "  numero_aleatorio = round( random.uniform(40,93), 2)\n",
        "  fabrica2.append(numero_aleatorio)\n",
        "print(fabrica2)"
      ],
      "metadata": {
        "colab": {
          "base_uri": "https://localhost:8080/"
        },
        "id": "xcfr4OHZN2aK",
        "outputId": "cc7d75dd-d97e-4f66-e92f-3a7488cb0bb8"
      },
      "execution_count": 4,
      "outputs": [
        {
          "output_type": "stream",
          "name": "stdout",
          "text": [
            "[68.3, 46.94, 43.82, 83.27, 92.29, 77.0, 84.91, 50.96, 66.09, 44.33, 85.56, 50.73, 71.39, 91.7, 47.87, 84.71, 61.33, 66.01, 67.73, 81.33, 59.95, 52.22, 88.37, 56.43, 72.26, 76.07, 55.92, 86.21, 75.94, 40.71, 48.96, 60.16, 62.41, 88.75, 50.64, 73.41, 47.71, 88.91, 76.7, 40.51, 61.83, 63.35, 60.42, 69.49, 63.53, 57.02, 71.02, 89.63, 89.19, 63.2, 86.09, 53.07, 44.29, 54.08, 66.86, 45.11, 69.42, 83.76, 90.93, 92.25, 40.19, 57.56, 72.47, 87.65, 42.38, 87.49, 59.35, 71.2, 64.48, 60.4, 79.63, 40.62, 54.95, 75.42, 76.76, 80.22, 44.01, 63.02, 76.76, 43.1, 77.72, 73.12, 63.97, 44.82, 58.12, 63.74, 61.15, 77.34, 43.17, 79.86, 73.25, 65.36, 65.71, 52.32, 55.67, 59.81, 49.23, 54.83, 82.64, 86.2]\n"
          ]
        }
      ]
    },
    {
      "cell_type": "markdown",
      "source": [
        "Estadísticas de la fábrica 1\n"
      ],
      "metadata": {
        "id": "ErQt0WIwAlNL"
      }
    },
    {
      "cell_type": "code",
      "source": [
        "maximo1 = max(fabrica1)\n",
        "minimo1= min(fabrica1)\n",
        "rango1 = maximo1 - minimo1\n",
        "media1 = mean(fabrica1)\n",
        "mediana1 = median(fabrica1)\n",
        "moda1 = mode(fabrica1)\n",
        "print(\"Estadistica descriptiva de la fabrica 1\\n\", \"Media=\",media1,\n",
        "      \"\\n Mediana =\", mediana1, \"\\n Moda =\",moda1,\"\\n Maximo = \",maximo1,\n",
        "      \"\\n Minimo =\", minimo1, \"\\n Rango =\", rango1)"
      ],
      "metadata": {
        "colab": {
          "base_uri": "https://localhost:8080/"
        },
        "id": "qtS_jXnQORxD",
        "outputId": "476bc985-e993-4e6c-bbf1-5cc16075af65"
      },
      "execution_count": 5,
      "outputs": [
        {
          "output_type": "stream",
          "name": "stdout",
          "text": [
            "Estadistica descriptiva de la fabrica 1\n",
            " Media= 76.3257 \n",
            " Mediana = 79.265 \n",
            " Moda = 72.46 \n",
            " Maximo =  99.81 \n",
            " Minimo = 50.53 \n",
            " Rango = 49.28\n"
          ]
        }
      ]
    },
    {
      "cell_type": "markdown",
      "source": [
        "Estadísticas de la fábrica 2"
      ],
      "metadata": {
        "id": "LKu8k7p0AoSv"
      }
    },
    {
      "cell_type": "code",
      "source": [
        "maximo2 = max(fabrica2)\n",
        "minimo2= min(fabrica2)\n",
        "rango2 = maximo2 - minimo2\n",
        "media2 = mean(fabrica2)\n",
        "mediana2 = median(fabrica2)\n",
        "moda2 = mode(fabrica2)\n",
        "print(\"Estadistica descriptiva de la fabrica 1\\n\", \"Media=\",media2,\n",
        "      \"\\n Mediana =\", mediana2, \"\\n Moda =\",moda2,\"\\n Maximo = \",maximo2,\n",
        "      \"\\n Minimo =\", minimo2, \"\\n Rango =\", rango2)"
      ],
      "metadata": {
        "colab": {
          "base_uri": "https://localhost:8080/"
        },
        "id": "fd0VfLDZPhSF",
        "outputId": "5698dbf1-462a-4433-ef82-aee44ed30c76"
      },
      "execution_count": 6,
      "outputs": [
        {
          "output_type": "stream",
          "name": "stdout",
          "text": [
            "Estadistica descriptiva de la fabrica 1\n",
            " Media= 66.0874 \n",
            " Mediana = 64.92 \n",
            " Moda = 76.76 \n",
            " Maximo =  92.29 \n",
            " Minimo = 40.19 \n",
            " Rango = 52.10000000000001\n"
          ]
        }
      ]
    },
    {
      "cell_type": "markdown",
      "source": [
        "##Dispercion de los Datos"
      ],
      "metadata": {
        "id": "fiD9LrCzQb63"
      }
    },
    {
      "cell_type": "code",
      "source": [
        "desviacion_estandar_fabrica1 = stdev(fabrica1)\n",
        "print(desviacion_estandar_fabrica1)"
      ],
      "metadata": {
        "colab": {
          "base_uri": "https://localhost:8080/"
        },
        "id": "GM-xNwWyQgbX",
        "outputId": "3bfcdd6c-c927-4763-ffac-bca989082f18"
      },
      "execution_count": 7,
      "outputs": [
        {
          "output_type": "stream",
          "name": "stdout",
          "text": [
            "14.94729361368597\n"
          ]
        }
      ]
    },
    {
      "cell_type": "code",
      "source": [
        "desviacion_estandar_fabrica2 = stdev(fabrica2)\n",
        "print(desviacion_estandar_fabrica2)"
      ],
      "metadata": {
        "colab": {
          "base_uri": "https://localhost:8080/"
        },
        "id": "bWF2F41dQpOx",
        "outputId": "51f8ca20-bc5e-4d11-bddb-285fe42c6268"
      },
      "execution_count": 8,
      "outputs": [
        {
          "output_type": "stream",
          "name": "stdout",
          "text": [
            "15.142615336602962\n"
          ]
        }
      ]
    },
    {
      "cell_type": "markdown",
      "source": [
        "Histograma fabrica 2"
      ],
      "metadata": {
        "id": "b1YZ9SrpArKI"
      }
    },
    {
      "cell_type": "code",
      "source": [
        "plt.figure(figsize = (8,6))\n",
        "plt.hist(fabrica2, bins=10, alpha=0.2, color='b', edgecolor = \"black\")\n",
        "plt.axvline(media2, color='b', linestyle='dashed', linewidth=2, label=f'Media={media2:.2f}')\n",
        "plt.axvline(mediana2, color='r', linestyle='dashed', linewidth=2, label=f'Mediana={mediana2:.2f}')\n",
        "plt.axvline(moda2, color='y', linestyle='dashed', linewidth=2, label=f'Moda={moda2:.2f}')\n",
        "plt.axvline(media2 - desviacion_estandar_fabrica2, color='black', linestyle='dashed', linewidth=2, label=f'Desv. Estándar={desviacion_estandar_fabrica2:.2f}')\n",
        "plt.axvline(media2 + desviacion_estandar_fabrica2, color='black', linestyle='dashed', linewidth=2)\n",
        "plt.xlabel('Valor')\n",
        "plt.ylabel('Frecuencia')\n",
        "plt.title(\"Producción diaria de la fabrica 2\")\n",
        "plt.legend()\n",
        "plt.show()\n",
        "\n",
        "\n"
      ],
      "metadata": {
        "colab": {
          "base_uri": "https://localhost:8080/",
          "height": 564
        },
        "id": "j6SuJw6UQ7Ju",
        "outputId": "2b2b8b93-ca04-4b75-a17a-1cd5c4bd9ea5"
      },
      "execution_count": 12,
      "outputs": [
        {
          "output_type": "display_data",
          "data": {
            "text/plain": [
              "<Figure size 800x600 with 1 Axes>"
            ],
            "image/png": "[encoded data removed]"
          },
          "metadata": {}
        }
      ]
    }
  ]
}