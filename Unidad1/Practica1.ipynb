{
  "cells": [
    {
      "cell_type": "markdown",
      "metadata": {
        "id": "view-in-github",
        "colab_type": "text"
      },
      "source": [
        "<a href=\"https://colab.research.google.com/github/FreddyVelazquez/Probabilidad/blob/main/Unidad1/Practica1.ipynb\" target=\"_parent\"><img src=\"https://colab.research.google.com/assets/colab-badge.svg\" alt=\"Open In Colab\"/></a>"
      ]
    },
    {
      "cell_type": "markdown",
      "source": [
        "# **PROBABILIDAD Y ESTADISTICA**\n",
        "\n",
        "##GRUPO 2Y\n",
        "\n",
        "##UNIDAD 1\n",
        "\n",
        "Docente: Jose Gabriel Rodriguez Rivas\n",
        "\n",
        "Alumno: Freddy Mariano Velazquez Cerros\n",
        "\n",
        "**Practica 1: Medidas de tendencia Central e Histogramas**"
      ],
      "metadata": {
        "id": "UXRCgo4UH2lt"
      }
    },
    {
      "cell_type": "code",
      "execution_count": null,
      "metadata": {
        "id": "G2Kv0Hsb18-l"
      },
      "outputs": [],
      "source": [
        "from statistics import*"
      ]
    },
    {
      "cell_type": "markdown",
      "metadata": {
        "id": "st971-Ql2fJw"
      },
      "source": [
        " #Ejemplo 1:Registro de Calificaciones\n"
      ]
    },
    {
      "cell_type": "code",
      "execution_count": null,
      "metadata": {
        "colab": {
          "base_uri": "https://localhost:8080/"
        },
        "id": "9qyZ12-r2rzS",
        "outputId": "f2f95e2b-1d69-4741-a06f-4c32604845a0"
      },
      "outputs": [
        {
          "name": "stdout",
          "output_type": "stream",
          "text": [
            "[70, 70, 65, 90, 100, 95, 45, 80, 73, 20, 100, 96]\n"
          ]
        }
      ],
      "source": [
        "#Lista de calificaciones del grupo de probabilidad y estadistica\n",
        "grupo_a=[70,70,65,90,100,95,45,80,73,20,100,96]\n",
        "print(grupo_a)\n"
      ]
    },
    {
      "cell_type": "markdown",
      "metadata": {
        "id": "Z_Yx35tp3RIB"
      },
      "source": [
        "La funcion type nos devuelve el tipo de dato de la variablee"
      ]
    },
    {
      "cell_type": "code",
      "execution_count": null,
      "metadata": {
        "id": "eLi8cO9q3ODt"
      },
      "outputs": [],
      "source": [
        "type(grupo_a)"
      ]
    },
    {
      "cell_type": "markdown",
      "metadata": {
        "id": "NDS0pZUC4HF3"
      },
      "source": [
        "Esto es para sacar la media de las calificaciones del grupo A"
      ]
    },
    {
      "cell_type": "code",
      "execution_count": null,
      "metadata": {
        "colab": {
          "base_uri": "https://localhost:8080/"
        },
        "id": "rTbSPLjg367H",
        "outputId": "47d59355-7e2f-4d2a-97ce-2bd0d6b75f56"
      },
      "outputs": [
        {
          "name": "stdout",
          "output_type": "stream",
          "text": [
            "75.33333333333333\n"
          ]
        }
      ],
      "source": [
        "promedio = sum(grupo_a)/len(grupo_a)\n",
        "print(promedio)"
      ]
    },
    {
      "cell_type": "markdown",
      "metadata": {
        "id": "uUaS3T4c4bLV"
      },
      "source": [
        "Otro ejenplo Utiliza la funcion mean en esta libreria statistics para sacar el promedio mas facil"
      ]
    },
    {
      "cell_type": "code",
      "execution_count": null,
      "metadata": {
        "colab": {
          "base_uri": "https://localhost:8080/"
        },
        "id": "EJJhX-CS4auA",
        "outputId": "21abeef4-13cd-4850-aae3-90c13af8e746"
      },
      "outputs": [
        {
          "name": "stdout",
          "output_type": "stream",
          "text": [
            "75.33333333333333\n"
          ]
        }
      ],
      "source": [
        "promedio2 = mean(grupo_a)\n",
        "print(promedio2)"
      ]
    },
    {
      "cell_type": "markdown",
      "metadata": {
        "id": "ab-kto_n5Gg_"
      },
      "source": [
        "Determinar el valor de la mediana con la funcion de MEDIAN de la libreria Stadistics"
      ]
    },
    {
      "cell_type": "code",
      "execution_count": null,
      "metadata": {
        "colab": {
          "base_uri": "https://localhost:8080/"
        },
        "id": "uhWeE4BQ4_WL",
        "outputId": "bf818cac-2c35-4eb8-b609-42e30bff81b1"
      },
      "outputs": [
        {
          "name": "stdout",
          "output_type": "stream",
          "text": [
            "76.5\n"
          ]
        }
      ],
      "source": [
        "mediana= median(grupo_a)\n",
        "print(mediana)"
      ]
    },
    {
      "cell_type": "markdown",
      "metadata": {
        "id": "tuSytPTL5jAD"
      },
      "source": [
        "Determinar el valor de la Moda con la funcion de Mode en la libreria Stadistics"
      ]
    },
    {
      "cell_type": "code",
      "execution_count": null,
      "metadata": {
        "id": "g8B1ZdZy5cUR"
      },
      "outputs": [],
      "source": [
        "moda = mode(grupo_a)\n",
        "print(moda)"
      ]
    },
    {
      "cell_type": "markdown",
      "metadata": {
        "id": "H_nViq7S5xzc"
      },
      "source": [
        "Determinar cuantas modas hay con la funcion de Multimode de la Liberia Stadadistics"
      ]
    },
    {
      "cell_type": "code",
      "execution_count": null,
      "metadata": {
        "colab": {
          "base_uri": "https://localhost:8080/"
        },
        "id": "O5YZKYtu5rFo",
        "outputId": "810e84f5-da80-461f-b38e-b4a27f91db5f"
      },
      "outputs": [
        {
          "name": "stdout",
          "output_type": "stream",
          "text": [
            "[70, 100]\n"
          ]
        }
      ],
      "source": [
        "moda2=multimode(grupo_a)\n",
        "print(moda2)"
      ]
    },
    {
      "cell_type": "markdown",
      "metadata": {
        "id": "PxTrMdNo6dbm"
      },
      "source": [
        "Definimos una variable que se llama tiempos100mts de tipo lista com la que veremos los tiemoos que tardaron 10 alumnis en correr 100 metros y al ultimo desplegamos los valores"
      ]
    },
    {
      "cell_type": "code",
      "execution_count": null,
      "metadata": {
        "colab": {
          "base_uri": "https://localhost:8080/"
        },
        "id": "Gwaf8fvc6EGS",
        "outputId": "02b0866a-2ece-4f72-a63f-92971ea1351f"
      },
      "outputs": [
        {
          "name": "stdout",
          "output_type": "stream",
          "text": [
            "[15.1, 17.2, 14.69, 13.27, 22, 15, 18.71, 19.15, 20.32, 15.1, 17.2]\n"
          ]
        }
      ],
      "source": [
        "tiempos100mts = [15.10,17.20,14.69,13.27,22,15,18.71,19.15,20.32,15.10,17.20]\n",
        "print(tiempos100mts)"
      ]
    },
    {
      "cell_type": "markdown",
      "metadata": {
        "id": "0U80Ckkw62_x"
      },
      "source": [
        "Usamos la funcion mean para determinar el tiempo promedio que tardaron los alumnos en recorrer los 100 mts"
      ]
    },
    {
      "cell_type": "code",
      "execution_count": null,
      "metadata": {
        "colab": {
          "base_uri": "https://localhost:8080/"
        },
        "id": "eznLBhkc6slr",
        "outputId": "abe96d6b-2d05-435a-cd0b-7714bb926135"
      },
      "outputs": [
        {
          "name": "stdout",
          "output_type": "stream",
          "text": [
            "El tiempo de los corredores es => 17.067272727272726\n"
          ]
        }
      ],
      "source": [
        "print(\"El tiempo de los corredores es =>\", mean(tiempos100mts))"
      ]
    },
    {
      "cell_type": "markdown",
      "metadata": {
        "id": "Y3bQqfmV7yto"
      },
      "source": [
        "MEDIANA\n"
      ]
    },
    {
      "cell_type": "code",
      "execution_count": null,
      "metadata": {
        "colab": {
          "base_uri": "https://localhost:8080/"
        },
        "id": "RwGMQKmt7VlA",
        "outputId": "b1c1ace7-9f26-48d3-816a-4dbd8067bd84"
      },
      "outputs": [
        {
          "name": "stdout",
          "output_type": "stream",
          "text": [
            "La media de los tiempos de los corredores es => 17.2\n"
          ]
        }
      ],
      "source": [
        "mediana = median(tiempos100mts)\n",
        "print(\"La media de los tiempos de los corredores es =>\",mediana)"
      ]
    },
    {
      "cell_type": "markdown",
      "metadata": {
        "id": "kBp-qp_j8jv7"
      },
      "source": [
        "MODA"
      ]
    },
    {
      "cell_type": "code",
      "execution_count": null,
      "metadata": {
        "colab": {
          "base_uri": "https://localhost:8080/"
        },
        "id": "7hEX6AHz72O5",
        "outputId": "2afb83c5-eb73-4bf4-b3ea-02d9a5e73e84"
      },
      "outputs": [
        {
          "name": "stdout",
          "output_type": "stream",
          "text": [
            "La moda de los tiempos es=> 15.1\n"
          ]
        }
      ],
      "source": [
        "moda = mode(tiempos100mts)\n",
        "print(\"La moda de los tiempos es=>\",moda)"
      ]
    },
    {
      "cell_type": "markdown",
      "metadata": {
        "id": "2tC8uGaT8lgB"
      },
      "source": [
        "MULTIMODA"
      ]
    },
    {
      "cell_type": "code",
      "execution_count": null,
      "metadata": {
        "colab": {
          "base_uri": "https://localhost:8080/"
        },
        "id": "_ysd5RNf8YYT",
        "outputId": "d27a07a7-e050-41db-bc2c-54f1cf21e8ea"
      },
      "outputs": [
        {
          "name": "stdout",
          "output_type": "stream",
          "text": [
            "Las modas de los tiempos son => [15.1, 17.2]\n"
          ]
        }
      ],
      "source": [
        "multimodas = multimode(tiempos100mts)\n",
        "print(\"Las modas de los tiempos son =>\",multimodas)"
      ]
    },
    {
      "cell_type": "markdown",
      "metadata": {
        "id": "UNi-PgU49dDV"
      },
      "source": [
        "IMPORTACION Y USO DE RANDOM"
      ]
    },
    {
      "cell_type": "code",
      "execution_count": 2,
      "metadata": {
        "id": "x1dRkAcL9bwt"
      },
      "outputs": [],
      "source": [
        "import random"
      ]
    },
    {
      "cell_type": "code",
      "execution_count": 3,
      "metadata": {
        "id": "Ehvi317B8n3W",
        "colab": {
          "base_uri": "https://localhost:8080/"
        },
        "outputId": "90456b84-8375-41c3-d3cd-b14481763368"
      },
      "outputs": [
        {
          "output_type": "stream",
          "name": "stdout",
          "text": [
            "[66.5, 87.66, 94.81, 75.6, 60.1, 86.49, 53.78, 72.4, 98.14, 64.08, 93.57, 80.64, 71.74, 80.19, 56.1, 80.11, 88.19, 96.98, 73.76, 58.79, 80.32, 85.13, 89.1, 65.03, 94.13, 62.87, 88.81, 89.01, 74.35, 58.5, 67.17, 64.11, 71.34, 68.17, 82.0, 59.99, 62.69, 56.15, 74.04, 69.7, 88.28, 51.51, 75.39, 94.74, 80.57, 93.9, 76.46, 84.1, 66.61, 67.37, 73.91, 64.74, 82.06, 83.98, 58.47, 75.25, 57.71, 82.37, 86.59, 61.72, 68.57, 99.99, 82.53, 94.54, 69.41, 94.15, 70.65, 50.57, 51.87, 81.0, 70.16, 66.18, 89.36, 54.9, 93.41, 85.86, 85.14, 57.09, 98.09, 63.22, 84.1, 96.17, 91.51, 94.38, 88.18, 86.95, 50.52, 65.72, 52.7, 91.19, 90.4, 56.07, 73.84, 92.33, 94.59, 77.51, 56.98, 94.99, 68.8, 86.97]\n"
          ]
        }
      ],
      "source": [
        "fabrica1 = []\n",
        "for i in range (100):\n",
        "  numero_aleatorio = round( random.uniform(50,100), 2 )\n",
        "  fabrica1.append(numero_aleatorio)\n",
        "print(fabrica1)"
      ]
    },
    {
      "cell_type": "markdown",
      "metadata": {
        "id": "LAyi9fgT6n0o"
      },
      "source": []
    },
    {
      "cell_type": "code",
      "source": [
        "fabrica2=[]\n",
        "for i in range (100):\n",
        "  numero_aleatorio = round( random.uniform(40,93), 2 )\n",
        "  fabrica2.append(numero_aleatorio)\n",
        "print(fabrica2)"
      ],
      "metadata": {
        "id": "1tTI_txxAlJn",
        "colab": {
          "base_uri": "https://localhost:8080/"
        },
        "outputId": "0b507521-f07c-4dad-b2ce-084a3b522e7a"
      },
      "execution_count": 4,
      "outputs": [
        {
          "output_type": "stream",
          "name": "stdout",
          "text": [
            "[72.1, 73.97, 50.55, 87.34, 88.12, 47.02, 41.31, 85.38, 74.62, 57.59, 51.92, 84.06, 77.32, 58.96, 78.24, 55.59, 90.59, 86.67, 68.52, 66.2, 63.71, 61.03, 41.2, 81.58, 43.12, 66.69, 64.14, 56.35, 42.1, 88.21, 84.61, 58.01, 59.0, 49.32, 89.97, 70.65, 52.41, 41.5, 87.62, 66.45, 88.03, 44.79, 53.71, 90.58, 89.0, 53.15, 44.05, 67.93, 41.96, 47.18, 42.79, 64.24, 86.0, 63.71, 44.85, 66.53, 66.37, 67.73, 51.25, 78.75, 90.67, 52.95, 45.5, 92.22, 42.1, 63.95, 70.54, 83.64, 59.85, 87.67, 92.86, 61.21, 72.43, 51.74, 62.24, 69.67, 47.68, 45.26, 42.23, 82.0, 58.52, 79.43, 72.9, 49.76, 71.62, 41.29, 66.51, 80.7, 87.62, 58.2, 62.59, 41.53, 42.59, 43.42, 64.9, 41.13, 48.8, 71.42, 60.63, 43.87]\n"
          ]
        }
      ]
    },
    {
      "cell_type": "code",
      "source": [
        "import matplotlib.pyplot as plt\n",
        "plt.hist(fabrica1)\n",
        "plt.title(\"Produccion Diaria de la Fabrica 1\")"
      ],
      "metadata": {
        "colab": {
          "base_uri": "https://localhost:8080/",
          "height": 469
        },
        "id": "lsVeq9dLBZPe",
        "outputId": "b9f7c04f-448f-4dce-cdc4-f71cba11bff2"
      },
      "execution_count": null,
      "outputs": [
        {
          "output_type": "execute_result",
          "data": {
            "text/plain": [
              "Text(0.5, 1.0, 'Produccion Diaria de la Fabrica 1')"
            ]
          },
          "metadata": {},
          "execution_count": 10
        },
        {
          "output_type": "display_data",
          "data": {
            "text/plain": [
              "<Figure size 640x480 with 1 Axes>"
            ],
            "image/png": "[encoded data removed]"
          },
          "metadata": {}
        }
      ]
    },
    {
      "cell_type": "code",
      "source": [
        "plt.hist(fabrica2)\n",
        "plt.title(\"Produccion Diaria de la Fabrica 2\")"
      ],
      "metadata": {
        "colab": {
          "base_uri": "https://localhost:8080/",
          "height": 469
        },
        "id": "550NQtmpBY_d",
        "outputId": "99cb6aa2-7fd7-4a2b-8166-964f1b31958a"
      },
      "execution_count": null,
      "outputs": [
        {
          "output_type": "execute_result",
          "data": {
            "text/plain": [
              "Text(0.5, 1.0, 'Produccion Diaria de la Fabrica 2')"
            ]
          },
          "metadata": {},
          "execution_count": 11
        },
        {
          "output_type": "display_data",
          "data": {
            "text/plain": [
              "<Figure size 640x480 with 1 Axes>"
            ],
            "image/png": "[encoded data removed]"
          },
          "metadata": {}
        }
      ]
    },
    {
      "cell_type": "code",
      "source": [
        "from statistics import*\n",
        "media1 = mean(fabrica1)\n",
        "mediana1 = median(fabrica1)\n",
        "moda1 = mode(fabrica1)\n",
        "print(\"Los valores de la Fabrica 1\")\n",
        "print(\"La media de la fabrica 1 es =\",media1)\n",
        "print(\"La mediana de la fabrica 1 es =\",mediana1)\n",
        "print(\"La moda de la fabrica 1 es =\",moda1)\n"
      ],
      "metadata": {
        "colab": {
          "base_uri": "https://localhost:8080/"
        },
        "id": "nFh1SDxmDUWZ",
        "outputId": "beada52a-4ddf-4db5-b69e-07cfc51408e1"
      },
      "execution_count": null,
      "outputs": [
        {
          "output_type": "stream",
          "name": "stdout",
          "text": [
            "Los valores de la Fabrica 1\n",
            "La media de la fabrica 1 es = 75.3104\n",
            "La mediana de la fabrica 1 es = 75.49000000000001\n",
            "La moda de la fabrica 1 es = 82.47\n"
          ]
        }
      ]
    },
    {
      "cell_type": "code",
      "source": [
        "media2 = mean(fabrica2)\n",
        "mediana2 = median(fabrica2)\n",
        "moda2 = mode(fabrica2)\n",
        "print(\"Los valores de la Fabrica 1\")\n",
        "print(\"La media de la fabrica 2 es =\",media2)\n",
        "print(\"La mediana de la fabrica 2 es =\",mediana2)\n",
        "print(\"La moda de la fabrica 2 es =\",moda2)"
      ],
      "metadata": {
        "colab": {
          "base_uri": "https://localhost:8080/"
        },
        "id": "3jKL-nIWEiPq",
        "outputId": "a5588bb0-e92d-4a89-9009-10bc40c89762"
      },
      "execution_count": null,
      "outputs": [
        {
          "output_type": "stream",
          "name": "stdout",
          "text": [
            "Los valores de la Fabrica 1\n",
            "La media de la fabrica 2 es = 67.3114\n",
            "La mediana de la fabrica 2 es = 67.03\n",
            "La moda de la fabrica 2 es = 47.85\n"
          ]
        }
      ]
    },
    {
      "cell_type": "code",
      "source": [
        "fig, (ax1, ax2) = plt.subplots(nrows = 1, ncols=2, figsize=(10, 5))\n",
        "ax1.hist(fabrica1)\n",
        "ax1.set_title(\"Produccion Diaria de la Fabrica 1\")\n",
        "ax2.hist(fabrica2)\n",
        "ax2.set_title(\"Produccion Diaria de la Fabrica 2\")"
      ],
      "metadata": {
        "colab": {
          "base_uri": "https://localhost:8080/",
          "height": 485
        },
        "id": "tzbnP5epF1kB",
        "outputId": "e880ae2c-eba1-4358-dd54-b53a7f8e615c"
      },
      "execution_count": null,
      "outputs": [
        {
          "output_type": "execute_result",
          "data": {
            "text/plain": [
              "Text(0.5, 1.0, 'Produccion Diaria de la Fabrica 2')"
            ]
          },
          "metadata": {},
          "execution_count": 14
        },
        {
          "output_type": "display_data",
          "data": {
            "text/plain": [
              "<Figure size 1000x500 with 2 Axes>"
            ],
            "image/png": "[encoded data removed]"
          },
          "metadata": {}
        }
      ]
    },
    {
      "cell_type": "code",
      "source": [
        "plt.hist(fabrica1, bins=10, alpha=0.2, color='b', edgecolor = \"black\")\n",
        "plt.axvline(media1, color='b', linestyle='dashed', linewidth=2, label='Media')\n",
        "plt.axvline(mediana1, color='r', linestyle='dashed', linewidth=2, label=\"Mediana\")\n",
        "plt.axvline(moda1, color='y', linestyle='dashed', linewidth=2, label='Moda')\n",
        "plt.xlabel ('Valor')\n",
        "plt.ylabel('Frecuencia')\n",
        "plt.title(\"Producción diaria de la fabrica 1\")\n",
        "plt.legend()\n",
        "plt.show()\n",
        "\n",
        "plt.hist(fabrica2, bins=10, alpha=0.2, color='b', edgecolor = \"black\")\n",
        "plt.axvline(media2, color='b', linestyle='dashed', linewidth=2, label='Media')\n",
        "plt.axvline(mediana2, color='r', linestyle='dashed', linewidth=2, label=\"Mediana\")\n",
        "plt.axvline(moda2, color='y', linestyle='dashed', linewidth=2, label='Moda')\n",
        "plt.xlabel ('Valor')\n",
        "plt.ylabel('Frecuencia')\n",
        "plt.title(\"Producción diaria de la fabrica 2\")\n",
        "plt.legend()\n",
        "plt.show()"
      ],
      "metadata": {
        "colab": {
          "base_uri": "https://localhost:8080/",
          "height": 927
        },
        "id": "KwM1JGfswTOy",
        "outputId": "0f6c3ae7-5715-4de0-a67b-7ba9fa90a34b"
      },
      "execution_count": null,
      "outputs": [
        {
          "output_type": "display_data",
          "data": {
            "text/plain": [
              "<Figure size 640x480 with 1 Axes>"
            ],
            "image/png": "[encoded data removed]"
          },
          "metadata": {}
        },
        {
          "output_type": "display_data",
          "data": {
            "text/plain": [
              "<Figure size 640x480 with 1 Axes>"
            ],
            "image/png": "[encoded data removed]"
          },
          "metadata": {}
        }
      ]
    }
  ],
  "metadata": {
    "colab": {
      "provenance": [],
      "authorship_tag": "ABX9TyOsqqi42/YjRbjRWUk738y1",
      "include_colab_link": true
    },
    "kernelspec": {
      "display_name": "Python 3",
      "name": "python3"
    },
    "language_info": {
      "name": "python"
    }
  },
  "nbformat": 4,
  "nbformat_minor": 0
}