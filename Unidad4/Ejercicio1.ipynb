{
  "nbformat": 4,
  "nbformat_minor": 0,
  "metadata": {
    "colab": {
      "provenance": [],
      "authorship_tag": "ABX9TyOxHSHmsxqM9xC4rC2TfVXe",
      "include_colab_link": true
    },
    "kernelspec": {
      "name": "python3",
      "display_name": "Python 3"
    },
    "language_info": {
      "name": "python"
    }
  },
  "cells": [
    {
      "cell_type": "markdown",
      "metadata": {
        "id": "view-in-github",
        "colab_type": "text"
      },
      "source": [
        "<a href=\"https://colab.research.google.com/github/FreddyVelazquez/Probabilidad/blob/main/Unidad4/Ejercicio1.ipynb\" target=\"_parent\"><img src=\"https://colab.research.google.com/assets/colab-badge.svg\" alt=\"Open In Colab\"/></a>"
      ]
    },
    {
      "cell_type": "markdown",
      "source": [
        "![image](https://github.com/JoseGabriel-ITD/Probabilidad-y-Estadistica/blob/main/Cintilla2004.png?raw=true)\n",
        "\n",
        "# **Programacion Orientada a Objetos**\n",
        "\n",
        "## Unidad 4\n",
        "\n",
        "### Practica: Ejercicio 1\n",
        "\n",
        "### Facilitador: *Dr. José Gabriel Rodríguez Rivas*\n",
        "\n",
        "### Alumno: Freddy Mariano Velazquez Cerros"
      ],
      "metadata": {
        "id": "jUrGjo11sC-p"
      }
    },
    {
      "cell_type": "code",
      "execution_count": null,
      "metadata": {
        "id": "MaCgtBsdrwTm"
      },
      "outputs": [],
      "source": [
        "import numpy as np\n",
        "import matplotlib.pyplot as plt\n",
        "from scipy.stats import norm"
      ]
    },
    {
      "cell_type": "code",
      "source": [
        "# Generar datos para la distribucion normal\n",
        "\n",
        "media = 70 # Media\n",
        "desv_std = 4 # Desviavion estandar\n",
        "num_datos = 500\n",
        "\n",
        "# Generarmos los datos de manera aleatoria y los ponemos en una lista (array)\n",
        "datos = np.random.normal(media, desv_std, num_datos)\n",
        "datos [0:50] # Mostrar los primeros 50"
      ],
      "metadata": {
        "id": "bKU2AaQGryhR"
      },
      "execution_count": null,
      "outputs": []
    },
    {
      "cell_type": "code",
      "source": [
        "# Crear un rango de valores para crear una densidad\n",
        "x = np.linspace(media - 3 * desv_std, media + 3 * desv_std, num_datos)\n",
        "\n",
        "# Calcular la PDF de la distribucion normal\n",
        "pdf = 1 / (desv_std * np.sqrt(2 * np.pi)) * np.exp(-(x - media) ** 2 / (2 * desv_std ** 2))"
      ],
      "metadata": {
        "id": "hMwPFe46r0K9"
      },
      "execution_count": null,
      "outputs": []
    },
    {
      "cell_type": "code",
      "source": [
        "# Para no imprimir toda la lista de valores (500), desplegamos los primeros 50\n",
        "\n",
        "print(\"Imprimir los primeros 50 valores de x\", x[0:50], \", y los primeros 50 pdf\", pdf[0:50])"
      ],
      "metadata": {
        "id": "BuHUaloMr37I"
      },
      "execution_count": null,
      "outputs": []
    },
    {
      "cell_type": "code",
      "source": [
        "# Graficar histograma\n",
        "plt.figure(figsize=(6, 4))\n",
        "plt.hist(datos, bins=15, alpha=0.4, color='b') #Histograma de los datos\n",
        "plt.title(\"Distribucion Normal\")\n",
        "plt.xlabel(\"Peso en kg de los estudiantes\")\n",
        "plt.grid(True)\n",
        "plt.show()"
      ],
      "metadata": {
        "id": "KPZ25fjir5-D"
      },
      "execution_count": null,
      "outputs": []
    },
    {
      "cell_type": "code",
      "source": [
        "# Visualizar la PDF\n",
        "plt.figure(figsize=(6, 4))\n",
        "plt.plot(x, pdf, label=\"Normal:(media:{}; ds:{})\".format(np.round(media, 2), np.round(desv_std, 2)))\n",
        "plt.title(\"Funcion de Densidad de Probabilidad (PDF) - Distribucion Normal\")\n",
        "plt.xlabel(\"Pesos en kg. de los estudiantes\")\n",
        "plt.ylabel(\"Densidad de Probabilidad\")\n",
        "plt.legend()\n",
        "plt.grid(True)\n",
        "plt.show()"
      ],
      "metadata": {
        "id": "WczZZbXlr9uZ"
      },
      "execution_count": null,
      "outputs": []
    },
    {
      "cell_type": "code",
      "source": [
        "# graficar Histograma\n",
        "plt.figure(figsize=(6, 4))\n",
        "plt.hist(datos, bins=15, alpha=0.4, density=True, color=\"b\")\n",
        "plt.plot( x, pdf, \"k\", linewidth=2)\n",
        "\n",
        "plt.title(\"Distribucion Normal\")\n",
        "plt.xlabel(\"Peso en kg. de los estudiantes\")\n",
        "plt.grid(True)\n",
        "plt.show()"
      ],
      "metadata": {
        "id": "A31yuOVvsADP"
      },
      "execution_count": null,
      "outputs": []
    }
  ]
}