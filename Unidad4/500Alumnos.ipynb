{
  "nbformat": 4,
  "nbformat_minor": 0,
  "metadata": {
    "colab": {
      "provenance": [],
      "authorship_tag": "ABX9TyN7ZnuBhTcFXrUNGgtAQNwX",
      "include_colab_link": true
    },
    "kernelspec": {
      "name": "python3",
      "display_name": "Python 3"
    },
    "language_info": {
      "name": "python"
    }
  },
  "cells": [
    {
      "cell_type": "markdown",
      "metadata": {
        "id": "view-in-github",
        "colab_type": "text"
      },
      "source": [
        "<a href=\"https://colab.research.google.com/github/FreddyVelazquez/Probabilidad/blob/main/Unidad4/500Alumnos.ipynb\" target=\"_parent\"><img src=\"https://colab.research.google.com/assets/colab-badge.svg\" alt=\"Open In Colab\"/></a>"
      ]
    },
    {
      "cell_type": "markdown",
      "source": [
        "![image](https://github.com/JoseGabriel-ITD/Probabilidad-y-Estadistica/blob/main/Cintilla2004.png?raw=true)\n",
        "\n",
        "# **Programacion Orientada a Objetos**\n",
        "\n",
        "## Unidad 4\n",
        "\n",
        "### Practica: 500 Alumnos\n",
        "\n",
        "### Facilitador: *Dr. José Gabriel Rodríguez Rivas*\n",
        "\n",
        "### Alumno: Freddy Mariano Velazquez Cerros"
      ],
      "metadata": {
        "id": "YTegQmr9s4Sx"
      }
    },
    {
      "cell_type": "code",
      "execution_count": null,
      "metadata": {
        "id": "-QVkPZNLsksi"
      },
      "outputs": [],
      "source": [
        "import scipy.stats as stats"
      ]
    },
    {
      "cell_type": "code",
      "source": [
        "# Generar datos para la distribucion normal\n",
        "\n",
        "media = 70 # Media\n",
        "desv_std = 4 # Desviavion estandar\n",
        "num_datos = 500"
      ],
      "metadata": {
        "id": "5fter55ssv5d"
      },
      "execution_count": null,
      "outputs": []
    },
    {
      "cell_type": "code",
      "source": [
        "prob_68 = stats.norm.cdf(68, media, desv_std)\n",
        "prob_72 = stats.norm.cdf(72, media, desv_std)\n",
        "\n",
        "probabilidad = prob_72 - prob_68"
      ],
      "metadata": {
        "id": "QLBU2GxaszEN"
      },
      "execution_count": null,
      "outputs": []
    },
    {
      "cell_type": "code",
      "source": [
        "estudiantes = probabilidad * num_datos\n",
        "# Mostrar resultados\n",
        "print(f\"Probabilidad de que un estudiante pese entre 68 y 72 kg: {probabilidad:.3f}\")\n",
        "print(f\"Número de estudiantes que pesan entre 68 y 72 kg: {estudiantes:.2f}\")"
      ],
      "metadata": {
        "id": "1XTBTnfjszzx"
      },
      "execution_count": null,
      "outputs": []
    }
  ]
}