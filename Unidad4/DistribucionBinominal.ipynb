{
  "nbformat": 4,
  "nbformat_minor": 0,
  "metadata": {
    "colab": {
      "provenance": [],
      "authorship_tag": "ABX9TyMPsDscoyO7NGgkV56Xe516",
      "include_colab_link": true
    },
    "kernelspec": {
      "name": "python3",
      "display_name": "Python 3"
    },
    "language_info": {
      "name": "python"
    }
  },
  "cells": [
    {
      "cell_type": "markdown",
      "metadata": {
        "id": "view-in-github",
        "colab_type": "text"
      },
      "source": [
        "<a href=\"https://colab.research.google.com/github/FreddyVelazquez/Probabilidad/blob/main/Unidad4/DistribucionBinominal.ipynb\" target=\"_parent\"><img src=\"https://colab.research.google.com/assets/colab-badge.svg\" alt=\"Open In Colab\"/></a>"
      ]
    },
    {
      "cell_type": "markdown",
      "source": [
        "![image](https://github.com/JoseGabriel-ITD/Probabilidad-y-Estadistica/blob/main/Cintilla2004.png?raw=true)\n",
        "\n",
        "# **Programacion Orientada a Objetos**\n",
        "\n",
        "## Unidad 4\n",
        "\n",
        "### Practica: Distribucion Binominal\n",
        "\n",
        "### Facilitador: *Dr. José Gabriel Rodríguez Rivas*\n",
        "\n",
        "### Alumno: Freddy Mariano Velazquez Cerros"
      ],
      "metadata": {
        "id": "UxxN-IgttdSi"
      }
    },
    {
      "cell_type": "code",
      "execution_count": 2,
      "metadata": {
        "colab": {
          "base_uri": "https://localhost:8080/"
        },
        "id": "zO6UIlPitbTh",
        "outputId": "6459a068-16df-4fc7-a61c-c0b224fb68bb"
      },
      "outputs": [
        {
          "output_type": "stream",
          "name": "stdout",
          "text": [
            "La probabilidad de que ningun paciente sufra la enfermedad es: 0.0507282029895386\n"
          ]
        }
      ],
      "source": [
        "from scipy.stats import binom\n",
        "\n",
        "# Parametros de lo distribucion binominal\n",
        "probabilidad_exito = 0.83\n",
        "num_pacientes = 16\n",
        "x = 16 # Numero de exitos\n",
        "\n",
        "# Calcular la probabilidad de que ningun paciente sufra la enfermedad\n",
        "probabilidad_ningun_enfermo = binom.pmf(x, num_pacientes, probabilidad_exito)\n",
        "\n",
        "print(\"La probabilidad de que ningun paciente sufra la enfermedad es:\", probabilidad_ningun_enfermo)"
      ]
    },
    {
      "cell_type": "code",
      "source": [
        "from scipy.stats import binom\n",
        "\n",
        "# Parametros de lo distribucion binominal\n",
        "probabilidad_exito = 0.83\n",
        "num_pacientes = 16\n",
        "x = 0\n",
        "\n",
        "#Calcular la probabilidad de que todos los pacientes sufran la enfermedad\n",
        "probabilidad_todos_enfermos = binom.pmf(x, num_pacientes, probabilidad_exito)\n",
        "\n",
        "print(\"La probabilidad de que todos los pacientes sufran la enfermedad es:\", probabilidad_todos_enfermos)"
      ],
      "metadata": {
        "colab": {
          "base_uri": "https://localhost:8080/"
        },
        "id": "9MuwAqMAtrxA",
        "outputId": "f618c256-affb-4a47-d1c4-7fd0c4c2175c"
      },
      "execution_count": 3,
      "outputs": [
        {
          "output_type": "stream",
          "name": "stdout",
          "text": [
            "La probabilidad de que todos los pacientes sufran la enfermedad es: 4.866119187566701e-13\n"
          ]
        }
      ]
    },
    {
      "cell_type": "markdown",
      "source": [
        "Ejercio 2"
      ],
      "metadata": {
        "id": "VbfIWNuntwMN"
      }
    },
    {
      "cell_type": "code",
      "source": [
        "from scipy.stats import binom\n",
        "\n",
        "# Parametros de lo distribucion binominal\n",
        "n = 10\n",
        "p = 0.10\n",
        "x = 2\n",
        "\n",
        "# Calcular la probabilidad de la variable aleatoria x=2\n",
        "probabilidad_x_2 = binom.pmf(x, n, p)\n",
        "\n",
        "print(\"La probabilidad de que la variable aleatoria x sea igual a 2 es:\", probabilidad_x_2)"
      ],
      "metadata": {
        "colab": {
          "base_uri": "https://localhost:8080/"
        },
        "id": "9qUH8cBMtxx6",
        "outputId": "32294c88-ecf2-48e7-e822-e5bb9764910f"
      },
      "execution_count": 4,
      "outputs": [
        {
          "output_type": "stream",
          "name": "stdout",
          "text": [
            "La probabilidad de que la variable aleatoria x sea igual a 2 es: 0.19371024450000007\n"
          ]
        }
      ]
    },
    {
      "cell_type": "markdown",
      "source": [
        "Ejercicio 3"
      ],
      "metadata": {
        "id": "hOB6H3IOt2cF"
      }
    },
    {
      "cell_type": "code",
      "source": [
        "import numpy as np\n",
        "import matplotlib.pyplot as plt\n",
        "from scipy.stats import binom"
      ],
      "metadata": {
        "id": "NBJHLzWct4He"
      },
      "execution_count": 5,
      "outputs": []
    },
    {
      "cell_type": "code",
      "source": [
        "# Parametro de la distribucion binomial\n",
        "n = 10\n",
        "p = 0.10\n",
        "\n",
        "# Calcular  las probabilidades para cada valor de x de 0 a 10\n",
        "valores_x = np.arange(0, n+1)\n",
        "probabilidades_x = [binom.pmf(x, n, p) for x in valores_x]\n",
        "\n",
        "# Imprimir la tabla de valores de x y sus probabilidades\n",
        "print(\"Valores de x\\tProbabilidades\")\n",
        "for x, probabilidad in zip(valores_x, probabilidades_x):\n",
        "    print(f\"{x}\\t\\t{probabilidad}\")\n",
        ""
      ],
      "metadata": {
        "colab": {
          "base_uri": "https://localhost:8080/"
        },
        "id": "SjUXnVhdt6P8",
        "outputId": "fe36a62d-825e-4fd6-eeba-6829bfdf1c87"
      },
      "execution_count": 6,
      "outputs": [
        {
          "output_type": "stream",
          "name": "stdout",
          "text": [
            "Valores de x\tProbabilidades\n",
            "0\t\t0.34867844009999993\n",
            "1\t\t0.38742048899999965\n",
            "2\t\t0.19371024450000007\n",
            "3\t\t0.05739562799999998\n",
            "4\t\t0.01116026100000001\n",
            "5\t\t0.0014880347999999995\n",
            "6\t\t0.00013778100000000007\n",
            "7\t\t8.748000000000003e-06\n",
            "8\t\t3.6449999999999996e-07\n",
            "9\t\t8.999999999999995e-09\n",
            "10\t\t1.0000000000000006e-10\n"
          ]
        }
      ]
    },
    {
      "cell_type": "code",
      "source": [
        "# Graficar el histograma de la distribucion binomial\n",
        "plt.figure(figsize=(8, 6))\n",
        "plt.bar(valores_x, probabilidades_x, color=\"skyblue\")\n",
        "plt.title(\"Distribucion Binomial\")\n",
        "plt.xlabel(\"Valores de x\")\n",
        "plt.ylabel(\"Probabilidades\")\n",
        "plt.grid(True)\n",
        "plt.show()"
      ],
      "metadata": {
        "colab": {
          "base_uri": "https://localhost:8080/",
          "height": 564
        },
        "id": "vDkA52gAt8p5",
        "outputId": "2b1ccac2-2e0d-4320-9127-32db3913e80f"
      },
      "execution_count": 7,
      "outputs": [
        {
          "output_type": "display_data",
          "data": {
            "text/plain": [
              "<Figure size 800x600 with 1 Axes>"
            ],
            "image/png": "[encoded data removed]"
          },
          "metadata": {}
        }
      ]
    }
  ]
}