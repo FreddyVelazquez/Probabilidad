{
  "nbformat": 4,
  "nbformat_minor": 0,
  "metadata": {
    "colab": {
      "provenance": [],
      "authorship_tag": "ABX9TyM/d5K9iZsc3/l11ZTCKR8m",
      "include_colab_link": true
    },
    "kernelspec": {
      "name": "python3",
      "display_name": "Python 3"
    },
    "language_info": {
      "name": "python"
    }
  },
  "cells": [
    {
      "cell_type": "markdown",
      "metadata": {
        "id": "view-in-github",
        "colab_type": "text"
      },
      "source": [
        "<a href=\"https://colab.research.google.com/github/FreddyVelazquez/Probabilidad/blob/main/Unidad4/Poisson.ipynb\" target=\"_parent\"><img src=\"https://colab.research.google.com/assets/colab-badge.svg\" alt=\"Open In Colab\"/></a>"
      ]
    },
    {
      "cell_type": "markdown",
      "source": [
        "![image](https://github.com/JoseGabriel-ITD/Probabilidad-y-Estadistica/blob/main/Cintilla2004.png?raw=true)\n",
        "\n",
        "# **Programacion Orientada a Objetos**\n",
        "\n",
        "## Unidad 4\n",
        "\n",
        "### Practica: Tipo de distribución: Poisson\n",
        "\n",
        "### Facilitador: *Dr. José Gabriel Rodríguez Rivas*\n",
        "\n",
        "### Alumno: Freddy Mariano Velazquez Cerros"
      ],
      "metadata": {
        "id": "De3VTY3SuTAW"
      }
    },
    {
      "cell_type": "code",
      "execution_count": null,
      "metadata": {
        "id": "rxPGBRPquQKd"
      },
      "outputs": [],
      "source": [
        "# PROBLEMA 1 - Distribución de Poisson\n",
        "from math import exp, factorial\n",
        "from scipy.stats import poisson\n",
        ""
      ]
    },
    {
      "cell_type": "code",
      "source": [
        "# Parámetros\n",
        "lamb = 5  # Media de Poisson"
      ],
      "metadata": {
        "id": "hSHGBDRCueQ7"
      },
      "execution_count": null,
      "outputs": []
    },
    {
      "cell_type": "code",
      "source": [
        "# a) Probabilidad de que X = 2\n",
        "x1 = 2\n",
        "p_x2 = poisson.pmf(x1, lamb)\n",
        "print(\"Problema 1:\")\n",
        "print(f\"a) P(X = 2) = {p_x2:.5f}\")"
      ],
      "metadata": {
        "id": "YkFn87_5uil4"
      },
      "execution_count": null,
      "outputs": []
    },
    {
      "cell_type": "code",
      "source": [
        "# b) Probabilidad de que X > 10\n",
        "p_mayor10 = 1 - poisson.cdf(10, lamb)\n",
        "print(f\"b) P(X > 10) = {p_mayor10:.5f}\")\n",
        "\n",
        "if p_mayor10 < 0.05:\n",
        "    print(\" No es muy probable que exceda de 10.\")\n",
        "else:\n",
        "    print(\" Es probable que exceda de 10.\")"
      ],
      "metadata": {
        "id": "D3o54WCHul3P"
      },
      "execution_count": null,
      "outputs": []
    },
    {
      "cell_type": "markdown",
      "source": [
        "Problema 2"
      ],
      "metadata": {
        "id": "Hm6yMLKNupJA"
      }
    },
    {
      "cell_type": "code",
      "source": [
        "# PROBLEMA 2 - Distribución Binomial\n",
        "from scipy.stats import binom\n",
        "# Parámetros\n",
        "n = 1000\n",
        "p = 0.001"
      ],
      "metadata": {
        "id": "84ckW9F9ummj"
      },
      "execution_count": null,
      "outputs": []
    },
    {
      "cell_type": "code",
      "source": [
        "#a) Ninguno defectuoso (x = 0)\n",
        "p0 = binom.pmf(0, n, p)\n",
        "\n",
        "#b) Tres defectuosos (x = 3)\n",
        "p3 = binom.pmf(3, n, p)\n",
        "\n",
        "#c) Cuatro defectuosos (x = 4)\n",
        "p4 = binom.pmf(4, n, p)"
      ],
      "metadata": {
        "id": "7rj2ZwPpusUR"
      },
      "execution_count": null,
      "outputs": []
    },
    {
      "cell_type": "code",
      "source": [
        "\n",
        "print(\"\\nPROBLEMA 2:\")\n",
        "print(f\"a) P(X = 0) = {p0:.6f}\")\n",
        "print(f\"b) P(X = 3) = {p3:.6f}\")\n",
        "print(f\"c) P(X = 4) = {p4:.6f}\")"
      ],
      "metadata": {
        "id": "OFC51_9jutka"
      },
      "execution_count": null,
      "outputs": []
    },
    {
      "cell_type": "code",
      "source": [
        "# Interpretación simple\n",
        "print(\"\\nInterpretación:\")\n",
        "print(\"Es muy probable que ninguno sea defectuoso.\")\n",
        "print(\"Las probabilidades de que 3 o 4 sean defectuosos son pequeñas.\")\n",
        ""
      ],
      "metadata": {
        "id": "gaEJzdD6uxVv"
      },
      "execution_count": null,
      "outputs": []
    }
  ]
}