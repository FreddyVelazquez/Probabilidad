{
  "nbformat": 4,
  "nbformat_minor": 0,
  "metadata": {
    "colab": {
      "provenance": [],
      "authorship_tag": "ABX9TyNQKO1Q3mK22D/309hvWRD6",
      "include_colab_link": true
    },
    "kernelspec": {
      "name": "python3",
      "display_name": "Python 3"
    },
    "language_info": {
      "name": "python"
    }
  },
  "cells": [
    {
      "cell_type": "markdown",
      "metadata": {
        "id": "view-in-github",
        "colab_type": "text"
      },
      "source": [
        "<a href=\"https://colab.research.google.com/github/FreddyVelazquez/Probabilidad/blob/main/Unidad2/probabilidad_U2_Programa3.ipynb\" target=\"_parent\"><img src=\"https://colab.research.google.com/assets/colab-badge.svg\" alt=\"Open In Colab\"/></a>"
      ]
    },
    {
      "cell_type": "markdown",
      "source": [
        "![image](https://github.com/Jose-Gabriel-Rodriguez/Probabilidad/blob/main/Cintilla2025.png?raw=true)\n",
        "# **PROGRAMACION ORIENTADA A OBJETOS**\n",
        "\n",
        "##GRUPO 2Y\n",
        "\n",
        "##UNIDAD 2\n",
        "\n",
        "Docente: Jose Gabriel Rodriguez Rivas\n",
        "\n",
        "Alumno: Freddy Mariano Velazquez Cerros\n",
        "\n",
        "### **Practica 3**"
      ],
      "metadata": {
        "id": "RiEgqxkNPaFZ"
      }
    },
    {
      "cell_type": "code",
      "execution_count": 1,
      "metadata": {
        "colab": {
          "base_uri": "https://localhost:8080/"
        },
        "id": "I7HurVlrLuOo",
        "outputId": "7f878f97-021c-486d-d1ea-e68d9c89acb2"
      },
      "outputs": [
        {
          "output_type": "stream",
          "name": "stdout",
          "text": [
            "El número de permutaciones de 10 elementos tomados de 4 en 4 es: 5040\n"
          ]
        }
      ],
      "source": [
        "import math\n",
        "\n",
        "# Definimos n y r\n",
        "n = 10  # asistentes\n",
        "r = 4   # preguntas\n",
        "\n",
        "# Fórmula de permutaciones: P(n,r) = n! / (n-r)!\n",
        "permutaciones = math.factorial(n) // math.factorial(n - r)\n",
        "\n",
        "print(f\"El número de permutaciones de {n} elementos tomados de {r} en {r} es: {permutaciones}\")\n"
      ]
    }
  ]
}